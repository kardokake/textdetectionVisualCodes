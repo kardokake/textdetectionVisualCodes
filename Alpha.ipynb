{
 "metadata": {
  "name": "",
  "signature": "sha256:eaeadd5e03891e66d5ac74204fe8f3426e3899f7ef308ac810464b29e2b6aa4e"
 },
 "nbformat": 3,
 "nbformat_minor": 0,
 "worksheets": [
  {
   "cells": [
    {
     "cell_type": "code",
     "collapsed": false,
     "input": [
      "import matplotlib.pyplot as plt\n",
      "\n",
      "def imgShow(image, title):\n",
      "    plt.imshow(image)\n",
      "    plt.axis('off') # clear x- and y-axes\n",
      "    plt.title(title)\n",
      "    plt.show()\n",
      "    return\n",
      "\n",
      "def fileNameLink1(filename, dirlist):\n",
      "    # use detection hotmap file name to find corresponding original rgb image filename\n",
      "    n1 = filename.split('_')[-1]\n",
      "    for filename in dirlist:\n",
      "        if filename.endswith('.png'):\n",
      "            fstring = filename.split('.')[0]\n",
      "            n2 = fstring.split('_')[1]\n",
      "            n3 = fstring.split('_')[-1]\n",
      "            if n2 == n1:\n",
      "                return 'img_'+n3+'.jpg'\n",
      "    return "
     ],
     "language": "python",
     "metadata": {},
     "outputs": [],
     "prompt_number": 1
    },
    {
     "cell_type": "code",
     "collapsed": false,
     "input": [
      "rawImgDir = '../icdar2013/task21_22/test/image' # dir for raw color image"
     ],
     "language": "python",
     "metadata": {},
     "outputs": [],
     "prompt_number": 2
    },
    {
     "cell_type": "code",
     "collapsed": false,
     "input": [
      "# list all testing samples\n",
      "dirlist = os.listdir(dirname)\n",
      "for subdirs in dirlist:\n",
      "    #if not subdirs == 'P_84':\n",
      "    #    continue\n",
      "    \n",
      "    # find all directories\n",
      "    subdirs_full = os.path.join(dirname, subdirs)\n",
      "    if os.path.isdir(subdirs_full):\n",
      "        \n",
      "        oriname1 = fileNameLink1(subdirs, dirlist) # original raw image file name\n",
      "        imgShow(plt.imread(os.path.join(rawImgDir, oriname1)), oriname1)\n",
      "        \n",
      "        scaleContainer = loadScaleImage(subdirs_full)\n",
      "               \n",
      "        imgMean = numpy.mean(scaleContainer, axis = 2)\n",
      "        imgShow(imgMean, 'detection')"
     ],
     "language": "python",
     "metadata": {},
     "outputs": []
    }
   ],
   "metadata": {}
  }
 ]
}