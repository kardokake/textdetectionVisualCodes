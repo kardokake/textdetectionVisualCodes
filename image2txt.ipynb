{
 "cells": [
  {
   "cell_type": "code",
   "execution_count": 31,
   "metadata": {
    "collapsed": true
   },
   "outputs": [],
   "source": [
    "from scipy.misc import imread\n",
    "import matplotlib.pyplot as plt\n",
    "import numpy\n",
    "%matplotlib inline"
   ]
  },
  {
   "cell_type": "code",
   "execution_count": 77,
   "metadata": {
    "collapsed": false
   },
   "outputs": [
    {
     "data": {
      "image/png": "[encoded data removed]",
      "text/plain": [
       "<matplotlib.figure.Figure at 0x46c53d0>"
      ]
     },
     "metadata": {},
     "output_type": "display_data"
    }
   ],
   "source": [
    "im = imread('../data/ex2/preMap/block100.png')\n",
    "bb = image2bb(im, 128)\n",
    "imbb = drawbb(im, bb, [0, 255, 0], 3)"
   ]
  },
  {
   "cell_type": "code",
   "execution_count": 79,
   "metadata": {
    "collapsed": false
   },
   "outputs": [
    {
     "data": {
      "image/png": "[encoded data removed]",
      "text/plain": [
       "<matplotlib.figure.Figure at 0x58e7d90>"
      ]
     },
     "metadata": {},
     "output_type": "display_data"
    },
    {
     "data": {
      "image/png": "[encoded data removed]",
      "text/plain": [
       "<matplotlib.figure.Figure at 0x47253d0>"
      ]
     },
     "metadata": {},
     "output_type": "display_data"
    },
    {
     "data": {
      "text/plain": [
       "[[119, 433, 177, 511],\n",
       " [125, 145, 177, 263],\n",
       " [128, 374, 167, 422],\n",
       " [135, 276, 187, 359],\n",
       " [187, 52, 257, 143],\n",
       " [197, 176, 246, 226],\n",
       " [197, 449, 246, 501],\n",
       " [208, 240, 247, 287],\n",
       " [262, 59, 324, 121],\n",
       " [266, 344, 317, 393]]"
      ]
     },
     "execution_count": 79,
     "metadata": {},
     "output_type": "execute_result"
    }
   ],
   "source": [
    "plt.axis('off')\n",
    "plt.imshow(im)\n",
    "plt.show()\n",
    "\n",
    "plt.axis('off')\n",
    "plt.imshow(imbb)\n",
    "plt.show()\n",
    "bb"
   ]
  },
  {
   "cell_type": "code",
   "execution_count": 74,
   "metadata": {
    "collapsed": false
   },
   "outputs": [],
   "source": [
    "def image2bb(img, thre):\n",
    "    ''' _image2bb(self, label)\n",
    "\n",
    "    convert image hot map into bb text strings\n",
    "    image: prediction image hotmap\n",
    "    thre: threshold to binarize the hotmap\n",
    "    Return: string, contains boundingbox coordinates'''\n",
    "    from skimage.measure import label as skimage_label\n",
    "    lbimg = skimage_label(numpy.uint8(img > thre), background = 0)\n",
    "    bbox = []\n",
    "    for l in xrange(lbimg.max()+1):\n",
    "        x, y = numpy.where(lbimg == l)\n",
    "        x0 = min(x)\n",
    "        y0 = min(y)\n",
    "        x1 = max(x)\n",
    "        y1 = max(y)\n",
    "        bb = [x0, y0, x1, y1]\n",
    "        bbox.append(bb)\n",
    "    return bbox\n",
    "\n",
    "def drawbb(canvas, Coor, mycolor, linewidth):\n",
    "    ''' drawbb(canvas, Coor, mycolor, linewidth)\n",
    "    \n",
    "    canvas: numpy array image on which to draw bounding box\n",
    "    Coor: list of list, coordinates of corners of bounding box\n",
    "    mycolor: color of bounding box\n",
    "    linewidth: line width of bounding box '''\n",
    "    \n",
    "    from skimage.draw import line as skimage_line\n",
    "    if len(canvas.shape) == 2:\n",
    "        rgbimg = numpy.zeros((canvas.shape[0], canvas.shape[1], 3), dtype = numpy.uint8)\n",
    "        rgbimg[:, :, 0] = canvas\n",
    "        rgbimg[:, :, 1] = canvas\n",
    "        rgbimg[:, :, 2] = canvas\n",
    "        canvas = rgbimg\n",
    "        plt.imshow(canvas)\n",
    "        plt.show()\n",
    "    \n",
    "    for coor in Coor:\n",
    "        x1 = coor[0]\n",
    "        y1 = coor[1]\n",
    "        x2 = coor[2]\n",
    "        y2 = coor[3]\n",
    "        line1 = skimage_line(x1, y1, x2, y1)\n",
    "        line2 = skimage_line(x1, y1, x1, y2)\n",
    "        line3 = skimage_line(x1, y2, x2, y2)\n",
    "        line4 = skimage_line(x2, y1, x2, y2)\n",
    "        canvas = setcolor(canvas, line1, mycolor, linewidth)\n",
    "        canvas = setcolor(canvas, line2, mycolor, linewidth)\n",
    "        canvas = setcolor(canvas, line3, mycolor, linewidth)\n",
    "        canvas = setcolor(canvas, line4, mycolor, linewidth)\n",
    "    return canvas\n",
    "\n",
    "def setcolor(img, coor, color, line_width = 1):\n",
    "    '''setcolor(img, coor, color, line_width = 1)\n",
    "    \n",
    "    set colors of given pixel\n",
    "    img: img to set color\n",
    "    coor: coordinates of pixels which to set colors\n",
    "    color: the colors of the target pixels\n",
    "    line_width: width of the neighborhood to set color '''\n",
    "    \n",
    "    oimg = img\n",
    "    xcor, ycor = coor\n",
    "    coor = map(lambda x, y: (x, y), xcor, ycor)\n",
    "    \n",
    "    if len(img.shape) == 2:\n",
    "        rgbimg = numpy.empty((img.shape[0], img.shape[1], 3))\n",
    "        rgbimg[:, :, 0] = img\n",
    "        rgbimg[:, :, 1] = img\n",
    "        rgbimg[:, :, 2] = img\n",
    "        img = rgbimg\n",
    "\n",
    "    if len(img.shape) == 3 and img.shape[2] == 3 and len(color) == 3:\n",
    "        #print 'color image'\n",
    "        for x, y in coor:\n",
    "            for i, k in enumerate(color):\n",
    "                if line_width == 1:\n",
    "                    img[x, y, i] = k\n",
    "                else:\n",
    "                    for w in range(line_width):\n",
    "                        xmax = min(x+w, img.shape[0]-1)\n",
    "                        ymax = min(y+w, img.shape[1]-1)\n",
    "                        xmin = max(0, x-w)\n",
    "                        ymin = max(0, y-w)\n",
    "                        img[xmax, ymax, i] = k\n",
    "                        img[xmin, ymin, i] = k        \n",
    "        return img   \n",
    "    else:\n",
    "        raise Exception('Unknown dimension size of color image')"
   ]
  },
  {
   "cell_type": "code",
   "execution_count": null,
   "metadata": {
    "collapsed": true
   },
   "outputs": [],
   "source": []
  },
  {
   "cell_type": "code",
   "execution_count": null,
   "metadata": {
    "collapsed": true
   },
   "outputs": [],
   "source": []
  }
 ],
 "metadata": {
  "kernelspec": {
   "display_name": "Python 2",
   "language": "python",
   "name": "python2"
  },
  "language_info": {
   "codemirror_mode": {
    "name": "ipython",
    "version": 2
   },
   "file_extension": ".py",
   "mimetype": "text/x-python",
   "name": "python",
   "nbconvert_exporter": "python",
   "pygments_lexer": "ipython2",
   "version": "2.7.3"
  }
 },
 "nbformat": 4,
 "nbformat_minor": 0
}
