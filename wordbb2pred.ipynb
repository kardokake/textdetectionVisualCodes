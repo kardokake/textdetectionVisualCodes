{
 "cells": [
  {
   "cell_type": "code",
   "execution_count": 1,
   "metadata": {
    "collapsed": false
   },
   "outputs": [],
   "source": [
    "import sys\n",
    "sys.path.insert(0, '../python')\n",
    "%matplotlib inline\n",
    "%load_ext autoreload\n",
    "%autoreload 2\n",
    "\n",
    "import numpy\n",
    "import pickle \n",
    "from fileOp import txt_save, make_dir\n",
    "from zipFile import zipFile"
   ]
  },
  {
   "cell_type": "code",
   "execution_count": 4,
   "metadata": {
    "collapsed": false
   },
   "outputs": [],
   "source": [
    "wordbb = pickle.load(open('../python/wordbb.pkl'))\n",
    "outdir = 'pred/'\n",
    "make_dir(outdir)"
   ]
  },
  {
   "cell_type": "code",
   "execution_count": 40,
   "metadata": {
    "collapsed": false,
    "scrolled": true
   },
   "outputs": [
    {
     "name": "stdout",
     "output_type": "stream",
     "text": [
      "img_228.jpg\n",
      "img_184.jpg\n",
      "img_180.jpg\n",
      "img_121.jpg\n",
      "img_118.jpg\n",
      "img_73.jpg\n",
      "img_110.jpg\n",
      "img_160.jpg\n",
      "img_71.jpg\n",
      "img_44.jpg\n",
      "img_158.jpg\n",
      "img_233.jpg\n",
      "img_10.jpg\n",
      "img_20.jpg\n",
      "img_50.jpg\n",
      "img_55.jpg\n",
      "img_105.jpg\n",
      "img_153.jpg\n",
      "img_205.jpg\n",
      "img_97.jpg\n",
      "img_133.jpg\n",
      "img_116.jpg\n",
      "img_134.jpg\n",
      "img_103.jpg\n",
      "img_8.jpg\n",
      "img_138.jpg\n",
      "img_186.jpg\n",
      "img_163.jpg\n",
      "img_89.jpg\n",
      "img_175.jpg\n",
      "img_178.jpg\n",
      "img_104.jpg\n",
      "img_9.jpg\n",
      "img_171.jpg\n",
      "img_102.jpg\n",
      "img_79.jpg\n",
      "img_204.jpg\n",
      "img_139.jpg\n",
      "img_45.jpg\n",
      "img_230.jpg\n",
      "img_117.jpg\n",
      "img_145.jpg\n",
      "img_80.jpg\n",
      "img_179.jpg\n",
      "img_231.jpg\n",
      "img_206.jpg\n",
      "img_131.jpg\n",
      "img_27.jpg\n",
      "img_195.jpg\n",
      "img_232.jpg\n",
      "img_193.jpg\n",
      "img_13.jpg\n",
      "img_23.jpg\n",
      "img_215.jpg\n",
      "img_72.jpg\n",
      "img_64.jpg\n",
      "img_210.jpg\n",
      "img_176.jpg\n",
      "img_174.jpg\n",
      "img_19.jpg\n",
      "img_218.jpg\n",
      "img_67.jpg\n",
      "img_36.jpg\n",
      "img_177.jpg\n",
      "img_203.jpg\n",
      "img_144.jpg\n",
      "img_223.jpg\n",
      "img_46.jpg\n",
      "img_152.jpg\n",
      "img_42.jpg\n",
      "img_51.jpg\n",
      "img_213.jpg\n",
      "img_141.jpg\n",
      "img_219.jpg\n",
      "img_142.jpg\n",
      "img_4.jpg\n",
      "img_99.jpg\n",
      "img_129.jpg\n",
      "img_112.jpg\n",
      "img_229.jpg\n",
      "img_75.jpg\n",
      "img_224.jpg\n",
      "img_57.jpg\n",
      "img_149.jpg\n",
      "img_181.jpg\n",
      "img_81.jpg\n",
      "img_119.jpg\n",
      "img_76.jpg\n",
      "img_162.jpg\n",
      "img_65.jpg\n",
      "img_201.jpg\n",
      "img_11.jpg\n",
      "img_154.jpg\n",
      "img_98.jpg\n",
      "img_48.jpg\n",
      "img_70.jpg\n",
      "img_62.jpg\n",
      "img_222.jpg\n",
      "img_170.jpg\n",
      "img_225.jpg\n",
      "img_226.jpg\n",
      "img_122.jpg\n",
      "img_60.jpg\n",
      "img_26.jpg\n",
      "img_187.jpg\n",
      "img_124.jpg\n",
      "img_18.jpg\n",
      "img_41.jpg\n",
      "img_77.jpg\n",
      "img_128.jpg\n",
      "img_43.jpg\n",
      "img_78.jpg\n",
      "img_34.jpg\n",
      "img_147.jpg\n",
      "img_111.jpg\n",
      "img_217.jpg\n",
      "img_194.jpg\n",
      "img_209.jpg\n",
      "img_167.jpg\n",
      "img_30.jpg\n",
      "img_52.jpg\n",
      "img_146.jpg\n",
      "img_87.jpg\n",
      "img_2.jpg\n",
      "img_83.jpg\n",
      "img_24.jpg\n",
      "img_28.jpg\n",
      "img_86.jpg\n",
      "img_58.jpg\n",
      "img_212.jpg\n",
      "img_200.jpg\n",
      "img_127.jpg\n",
      "img_1.jpg\n",
      "img_216.jpg\n",
      "img_211.jpg\n",
      "img_202.jpg\n",
      "img_156.jpg\n",
      "img_39.jpg\n",
      "img_123.jpg\n",
      "img_17.jpg\n",
      "img_190.jpg\n",
      "img_85.jpg\n",
      "img_32.jpg\n",
      "img_173.jpg\n",
      "img_84.jpg\n",
      "img_164.jpg\n",
      "img_161.jpg\n",
      "img_132.jpg\n",
      "img_196.jpg\n",
      "img_172.jpg\n",
      "img_14.jpg\n",
      "img_90.jpg\n",
      "img_157.jpg\n",
      "img_54.jpg\n",
      "img_22.jpg\n",
      "img_120.jpg\n",
      "img_59.jpg\n",
      "img_94.jpg\n",
      "img_31.jpg\n",
      "img_159.jpg\n",
      "img_227.jpg\n",
      "img_185.jpg\n",
      "img_91.jpg\n",
      "img_33.jpg\n",
      "img_113.jpg\n",
      "img_108.jpg\n",
      "img_189.jpg\n",
      "img_109.jpg\n",
      "img_221.jpg\n",
      "img_6.jpg\n",
      "img_106.jpg\n",
      "img_130.jpg\n",
      "img_168.jpg\n",
      "img_21.jpg\n",
      "img_137.jpg\n",
      "img_66.jpg\n",
      "img_100.jpg\n",
      "img_68.jpg\n",
      "img_114.jpg\n",
      "img_125.jpg\n",
      "img_92.jpg\n",
      "img_25.jpg\n",
      "img_135.jpg\n",
      "img_74.jpg\n",
      "img_63.jpg\n",
      "img_49.jpg\n",
      "img_148.jpg\n",
      "img_47.jpg\n",
      "img_5.jpg\n",
      "img_40.jpg\n",
      "img_183.jpg\n",
      "img_61.jpg\n",
      "img_143.jpg\n",
      "img_3.jpg\n",
      "img_182.jpg\n",
      "img_7.jpg\n",
      "img_165.jpg\n",
      "img_155.jpg\n",
      "img_208.jpg\n",
      "img_199.jpg\n",
      "img_38.jpg\n",
      "img_96.jpg\n",
      "img_15.jpg\n",
      "img_107.jpg\n",
      "img_136.jpg\n",
      "img_29.jpg\n",
      "img_53.jpg\n",
      "img_56.jpg\n",
      "img_191.jpg\n",
      "img_150.jpg\n",
      "img_207.jpg\n",
      "img_69.jpg\n",
      "img_16.jpg\n",
      "img_192.jpg\n",
      "img_198.jpg\n",
      "img_166.jpg\n",
      "img_115.jpg\n",
      "img_12.jpg\n",
      "img_151.jpg\n",
      "img_197.jpg\n",
      "img_37.jpg\n",
      "img_88.jpg\n",
      "img_93.jpg\n",
      "img_82.jpg\n",
      "img_126.jpg\n",
      "img_140.jpg\n",
      "img_220.jpg\n",
      "img_35.jpg\n",
      "img_101.jpg\n",
      "img_95.jpg\n",
      "img_214.jpg\n",
      "img_188.jpg\n",
      "img_169.jpg\n"
     ]
    }
   ],
   "source": [
    "for imgname, bb in wordbb:\n",
    "    print imgname\n",
    "    #if imgname != 'img_169.jpg':\n",
    "    #    continue\n",
    "    #print bb\n",
    "    txtname = 'res_'+imgname.split('.')[0]+'.txt'\n",
    "    ss = []\n",
    "    bb[:, 2] = bb[:, 0]+bb[:, 2]\n",
    "    bb[:, 3] = bb[:, 1]+bb[:, 3]\n",
    "    for b in bb:\n",
    "        s = ','.join(map(str, b))\n",
    "        ss.append(s)\n",
    "    ss = '\\r\\n'.join(ss)\n",
    "    txt_save(ss, txtname, outdir)"
   ]
  },
  {
   "cell_type": "code",
   "execution_count": 46,
   "metadata": {
    "collapsed": false
   },
   "outputs": [
    {
     "name": "stdout",
     "output_type": "stream",
     "text": [
      "pred.zip created.\n"
     ]
    }
   ],
   "source": [
    "zipFile('pred.zip', 'pred')"
   ]
  },
  {
   "cell_type": "code",
   "execution_count": 1,
   "metadata": {
    "collapsed": false
   },
   "outputs": [
    {
     "data": {
      "text/plain": [
       "3"
      ]
     },
     "execution_count": 1,
     "metadata": {},
     "output_type": "execute_result"
    }
   ],
   "source": [
    "max(1, 3)"
   ]
  },
  {
   "cell_type": "code",
   "execution_count": 36,
   "metadata": {
    "collapsed": false
   },
   "outputs": [
    {
     "data": {
      "text/plain": [
       "array([232, 245, 248, 254, 267, 298, 299])"
      ]
     },
     "execution_count": 36,
     "metadata": {},
     "output_type": "execute_result"
    }
   ],
   "source": [
    "bb[:, 0]"
   ]
  },
  {
   "cell_type": "code",
   "execution_count": 37,
   "metadata": {
    "collapsed": false
   },
   "outputs": [
    {
     "data": {
      "text/plain": [
       "array([[ 232,  282,  937, 1143],\n",
       "       [ 245,  326, 1057, 1322],\n",
       "       [ 248,  308, 1001, 1243],\n",
       "       [ 254,  287, 1047, 1163],\n",
       "       [ 267,  309, 1088, 1247],\n",
       "       [ 298,  285, 1210, 1156],\n",
       "       [ 299,  310, 1206, 1251]])"
      ]
     },
     "execution_count": 37,
     "metadata": {},
     "output_type": "execute_result"
    }
   ],
   "source": [
    "bb"
   ]
  },
  {
   "cell_type": "code",
   "execution_count": 9,
   "metadata": {
    "collapsed": false
   },
   "outputs": [
    {
     "name": "stdout",
     "output_type": "stream",
     "text": [
      "AgglomerativeClusteringTest.ipynb  hotmap2cc.ipynb\r\n",
      "Alpha.ipynb                        image2txt.ipynb\r\n",
      "backArray.npy                      imageEval.ipynb\r\n",
      "bbEval.ipynb                       imageProcess.ipynb\r\n",
      "cctest.ipynb                       image test.ipynb\r\n",
      "CharExt.ipynb                      InftyCDB3B.txt\r\n",
      "CharHist.ipynb                     InftyConverter.py\r\n",
      "CKmeansEval.ipynb                  inftyFeat.npy\r\n",
      "ClassifierEval.ipynb               __init__.py\r\n",
      "Classifier_rect.pkl                label.csv\r\n",
      "Classifier_square.pkl              \u001b[0m\u001b[01;34mLeetCode\u001b[0m/\r\n",
      "coarseDetTest_example.ipynb        Manifold learning.ipynb\r\n",
      "coarseDetTest.ipynb                mser.npy\r\n",
      "codeBookErr.npy                    mser test.ipynb\r\n",
      "codeBookIdx.npy                    mycert.pem\r\n",
      "codeBook.npy                       myop.py\r\n",
      "edge.npy                           myop.pyc\r\n",
      "feat.csv                           original.npy\r\n",
      "feat.npy                           patchVisualization.ipynb\r\n",
      "featureAnalysis.ipynb              \u001b[01;34mpred\u001b[0m/\r\n",
      "featureImportances.ipynb           \u001b[01;31mpred.zip\u001b[0m\r\n",
      "fineDetTest.ipynb                  scatter.ipynb\r\n",
      "foreArray.npy                      TrainImageAnalysis.ipynb\r\n",
      "\u001b[01;34mHackerrank\u001b[0m/                        wordbb2pred.ipynb\r\n",
      "\u001b[01;34mhomograph\u001b[0m/                         \u001b[01;34mwordSeg\u001b[0m/\r\n"
     ]
    }
   ],
   "source": [
    "ls"
   ]
  },
  {
   "cell_type": "code",
   "execution_count": null,
   "metadata": {
    "collapsed": true
   },
   "outputs": [],
   "source": []
  }
 ],
 "metadata": {
  "kernelspec": {
   "display_name": "Python 2",
   "language": "python",
   "name": "python2"
  },
  "language_info": {
   "codemirror_mode": {
    "name": "ipython",
    "version": 2
   },
   "file_extension": ".py",
   "mimetype": "text/x-python",
   "name": "python",
   "nbconvert_exporter": "python",
   "pygments_lexer": "ipython2",
   "version": "2.7.6"
  }
 },
 "nbformat": 4,
 "nbformat_minor": 0
}
