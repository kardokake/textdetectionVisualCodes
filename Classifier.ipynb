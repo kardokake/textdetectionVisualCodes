{
 "cells": [
  {
   "cell_type": "code",
   "execution_count": 2,
   "metadata": {
    "collapsed": false
   },
   "outputs": [],
   "source": [
    "import numpy as np\n",
    "import matplotlib.pyplot as plt\n",
    "from sklearn.metrics import zero_one_loss, precision_recall_curve\n",
    "%matplotlib inline"
   ]
  },
  {
   "cell_type": "code",
   "execution_count": 3,
   "metadata": {
    "collapsed": false
   },
   "outputs": [],
   "source": [
    "class decisionStump:\n",
    "    def _init_(self):\n",
    "        self.thre = 0\n",
    "        self.direction = 0\n",
    "        return\n",
    "        \n",
    "    def fit(self, feature, label, weight=None):\n",
    "        arr1 = feature[label == 0]\n",
    "        arr2 = feature[label == 1]       \n",
    "      \n",
    "        if weight is not None:\n",
    "            weight1 = weight[label == 0]\n",
    "            weight2 = weight[label == 1]\n",
    "            prior1 = np.sum(weight1)\n",
    "            prior2 = np.sum(weight2)\n",
    "            mean1 = np.average(arr1, weights = weight1)\n",
    "            mean2 = np.average(arr2, weights = weight2)\n",
    "            var1 = np.average((arr1-mean1)**2, weights = weight1)\n",
    "            var2 = np.average((arr2-mean2)**2, weights = weight2)\n",
    "        else:\n",
    "            prior1 = len(arr1)\n",
    "            prior2 = len(arr2)\n",
    "            mean1 = np.mean(arr1)\n",
    "            mean2 = np.mean(arr2)\n",
    "            var1 = np.var(arr1)\n",
    "            var2 = np.var(arr2)  \n",
    "            \n",
    "        if mean1 < mean2:\n",
    "            self.direction = 0\n",
    "        else:\n",
    "            self.direction = 1\n",
    "\n",
    "        a = var1 - var2\n",
    "        b = 2*(mean1*var2-mean2*var1)\n",
    "        c = -var2*mean1**2 + var1*mean2**2-2*var1*var2*np.log(prior2*var1/var2/prior1)\n",
    "        if b**2 - 4*a*c < 0:\n",
    "            self.thre = (mean1 + mean2) / 2\n",
    "            return self\n",
    "        \n",
    "        root1 = (-b + np.sqrt(b**2 - 4*a*c)) / (2*a)\n",
    "        root2 = (-b - np.sqrt(b**2 - 4*a*c)) / (2*a)\n",
    "        med = (mean1 + mean2) / 2\n",
    "        if abs(root1 - med) > abs(root2 - med):\n",
    "            self.thre = root2\n",
    "        else:\n",
    "            self.thre = root1\n",
    "        \n",
    "        return self\n",
    "    \n",
    "    def predict(self, feature):\n",
    "        if self.direction == 0:\n",
    "            label = feature > self.thre\n",
    "        else:\n",
    "            label = feature < self.thre\n",
    "        return label\n",
    "    \n",
    "class decisionTree1N:\n",
    "    def __init__(self):\n",
    "        return\n",
    "    \n",
    "    def fit(self, feature, label, weight = None):\n",
    "        errMin = 1.0\n",
    "        Idx = 0\n",
    "        for k, f in enumerate(feature):\n",
    "            c = decisionStump()\n",
    "            c.fit(f, label, weight)\n",
    "            pred = c.predict(f)\n",
    "            err = zero_one_loss(label, pred, normalize=True, sample_weight = weight)\n",
    "            if err < errMin:\n",
    "                errMin = err\n",
    "                idx = k\n",
    "                clf = c\n",
    "        self.err = errMin\n",
    "        self.idx = idx\n",
    "        self.clf = clf\n",
    "        return self\n",
    "    \n",
    "    def predict(self, feature):\n",
    "        f = feature[self.idx, :]\n",
    "        return self.clf.predict(f)\n",
    "    \n",
    "def dataGenerator(mu1, mu2, sigma1, sigma2, sample1, sample2, \n",
    "             weight1=None, weight2=None, bins = 64, ranges = (-12, 12), alpha = 0.5):\n",
    "    arr1 = np.random.normal(mu1, sigma1, sample1)\n",
    "    arr2 = np.random.normal(mu2, sigma2, sample2)\n",
    "    label1 = np.zeros(len(arr1))\n",
    "    label2 = np.ones(len(arr2))\n",
    "\n",
    "    arr = np.concatenate((arr1, arr2))\n",
    "    label = np.concatenate((label1, label2))\n",
    "    if (weight1 is not None) and (weight2 is not None):\n",
    "        weight = np.concatenate((weight1, weight2))\n",
    "    else:\n",
    "        weight = np.ones(len(arr), dtype = np.float32)/len(arr)\n",
    "\n",
    "    plt.hist(arr1, bins = bins, range = ranges, alpha = alpha, weights = weight1)\n",
    "    plt.hist(arr2, bins = bins, range = ranges, alpha = alpha, weights = weight2)\n",
    "    plt.show()\n",
    "    return arr, label, weight\n",
    "\n",
    "    \n"
   ]
  },
  {
   "cell_type": "code",
   "execution_count": 4,
   "metadata": {
    "collapsed": false
   },
   "outputs": [
    {
     "data": {
      "image/png": "[encoded data removed]",
      "text/plain": [
       "<matplotlib.figure.Figure at 0x7f48a14c41d0>"
      ]
     },
     "metadata": {},
     "output_type": "display_data"
    },
    {
     "data": {
      "image/png": "[encoded data removed]",
      "text/plain": [
       "<matplotlib.figure.Figure at 0x7f48a112fe10>"
      ]
     },
     "metadata": {},
     "output_type": "display_data"
    },
    {
     "data": {
      "image/png": "[encoded data removed]",
      "text/plain": [
       "<matplotlib.figure.Figure at 0x7f48a143b110>"
      ]
     },
     "metadata": {},
     "output_type": "display_data"
    },
    {
     "data": {
      "image/png": "[encoded data removed]",
      "text/plain": [
       "<matplotlib.figure.Figure at 0x7f48a143b310>"
      ]
     },
     "metadata": {},
     "output_type": "display_data"
    },
    {
     "name": "stdout",
     "output_type": "stream",
     "text": [
      "decision stump error rate 0.391394866168\n",
      "decision stump error rate 0.119691324709\n",
      "decision stump error rate 0.337916549146\n",
      "decision stump error rate 0.263821529152\n",
      "decision tree error rate 0.119691324709\n"
     ]
    }
   ],
   "source": [
    "sample1 = 1000\n",
    "sample2 = 2000\n",
    "\n",
    "weight1 = np.random.rand(sample1)\n",
    "weight2 = np.random.rand(sample2)\n",
    "\n",
    "mu1 = 3\n",
    "sigma1 = 1\n",
    "\n",
    "mu2 = 4\n",
    "sigma2 = 2\n",
    "\n",
    "sample1 = 1000\n",
    "sample2 = 2000\n",
    "\n",
    "feature1, label, weight = dataGenerator(mu1, mu2, sigma1, sigma2, sample1, sample2, weight1, weight2)\n",
    "\n",
    "mu1 = 1\n",
    "sigma1 = 2\n",
    "\n",
    "mu2 = 4\n",
    "sigma2 = 1\n",
    "\n",
    "sample1 = 1000\n",
    "sample2 = 2000\n",
    "\n",
    "feature2, label, weight = dataGenerator(mu1, mu2, sigma1, sigma2, sample1, sample2,  \n",
    "                                weight1 = weight1, weight2 = weight2)\n",
    "mu1 = 3\n",
    "sigma1 = 1.5\n",
    "\n",
    "mu2 = 0\n",
    "sigma2 = 5\n",
    "\n",
    "sample1 = 1000\n",
    "sample2 = 2000\n",
    "\n",
    "feature3, label, weight = dataGenerator(mu1, mu2, sigma1, sigma2, sample1, sample2,  \n",
    "                                weight1 = weight1, weight2 = weight2)\n",
    "mu1 = -10\n",
    "sigma1 = 20\n",
    "\n",
    "mu2 = -5\n",
    "sigma2 = 8\n",
    "\n",
    "sample1 = 1000\n",
    "sample2 = 2000\n",
    "\n",
    "feature4, label, weight = dataGenerator(mu1, mu2, sigma1, sigma2, sample1, sample2,  \n",
    "                                weight1 = weight1, weight2 = weight2)\n",
    "\n",
    "\n",
    "feature = np.vstack((feature1, feature2, feature3, feature4))\n",
    "\n",
    "c = decisionStump()\n",
    "c.fit(feature1, label, weight)\n",
    "pred = c.predict(feature1)\n",
    "print 'decision stump error rate', zero_one_loss(pred, label, sample_weight = weight)\n",
    "\n",
    "c.fit(feature2, label, weight)\n",
    "pred = c.predict(feature2)\n",
    "print 'decision stump error rate', zero_one_loss(pred, label, sample_weight = weight)\n",
    "\n",
    "c.fit(feature3, label, weight)\n",
    "pred = c.predict(feature3)\n",
    "print 'decision stump error rate', zero_one_loss(pred, label, sample_weight = weight)\n",
    "\n",
    "c.fit(feature4, label, weight)\n",
    "pred = c.predict(feature4)\n",
    "print 'decision stump error rate', zero_one_loss(pred, label, sample_weight = weight)\n",
    "\n",
    "c = decisionTree1N()\n",
    "c.fit(feature, label, weight)\n",
    "pred = c.predict(feature) \n",
    "print 'decision tree error rate', zero_one_loss(pred, label, sample_weight = weight)"
   ]
  },
  {
   "cell_type": "code",
   "execution_count": 5,
   "metadata": {
    "collapsed": false
   },
   "outputs": [
    {
     "name": "stdout",
     "output_type": "stream",
     "text": [
      "(22932,) (22932, 900)\n"
     ]
    }
   ],
   "source": [
    "label = np.load('../data/ex1/npy/l_img_100.npy') \n",
    "feature = np.load('../data/ex1/npy/p_img_100.npy') \n",
    "\n",
    "for i in range(110, 200):\n",
    "    try:\n",
    "        labelname = '../data/ex1/npy/l_img_'+str(i)+'.npy'\n",
    "        featurename = '../data/ex1/npy/p_img_'+str(i)+'.npy'\n",
    "        label = np.hstack((label, np.load(labelname)))\n",
    "        feature = np.vstack((feature, np.load(featurename)))\n",
    "    except:\n",
    "        continue\n",
    "                      \n",
    "print label.shape, feature.shape"
   ]
  },
  {
   "cell_type": "code",
   "execution_count": null,
   "metadata": {
    "collapsed": false
   },
   "outputs": [],
   "source": []
  },
  {
   "cell_type": "code",
   "execution_count": 11,
   "metadata": {
    "collapsed": false
   },
   "outputs": [],
   "source": [
    "class AdaBoostClassifier:\n",
    "    def __init__(self, no_of_stages = 20):\n",
    "        self.no_of_stages = no_of_stages # how many iterations need to train\n",
    "        self.classifiers = [] # containing classifier in all stages\n",
    "        self.Alpha = np.zeros(no_of_stages) # alpha value (weight) for all stages\n",
    "        \n",
    "\n",
    "    def fit(self, data, target):\n",
    "        # initialize weight for samples\n",
    "        m = data.shape[1]\n",
    "        weight = np.ones(m)\n",
    "        weight = np.float32(weight)/m\n",
    "        \n",
    "        self.feature_importance_ = np.zeros(data.shape[0])\n",
    "        self.error_ = np.zeros(self.no_of_stages)\n",
    "        \n",
    "        for i in range(self.no_of_stages):\n",
    "            decision_stump = decisionTree1N()\n",
    "            decision_stump = decision_stump.fit(data, target, weight)    \n",
    "            pred = decision_stump.predict(data)\n",
    "            \n",
    "            err = zero_one_loss(target, pred, normalize=True, sample_weight = weight)\n",
    "            beta = err/(1-err)\n",
    "            if beta > 0: \n",
    "                weight[pred == target] = weight[pred==target]*beta # decrease weight\n",
    "                weight = weight / weight.sum() # normalize weight\n",
    "                alpha = np.log(1/beta) # compute alpha\n",
    "            else:\n",
    "                alpha = 10000 # make alpha extremly large if decision stump is totally correct.\n",
    "            self.Alpha[i] = alpha\n",
    "            self.classifiers.append(decision_stump)\n",
    "            self.feature_importance_[decision_stump.idx] += alpha\n",
    "            self.error_[i] = err\n",
    "        return self\n",
    "\n",
    "    def proba_predict(self, data):\n",
    "        no_of_stages = self.no_of_stages # total number of stages\n",
    "        classifiers = self.classifiers # containing classifiers in all stages\n",
    "        Alpha = self.Alpha # alpha value (weight) for Nall stages\n",
    "\n",
    "        Pred = np.zeros(data.shape[1])\n",
    "        for i in range(no_of_stages):\n",
    "            decision_stump = classifiers[i] # get current stage classifier\n",
    "            pred = decision_stump.predict(data) # get current stage prediction value\n",
    "            pred = (pred - 0.5) * 2\n",
    "            Pred += pred*Alpha[i] # combine predictions\n",
    "        return Pred\n",
    "    \n",
    "    def predict(self, data):\n",
    "        Pred = self.proba_predict(data)\n",
    "        return np.uint8(Pred > 0)\n",
    "    \n",
    "    def staged_proba_predict(self, data, stage_number = None):\n",
    "        if stage_number is not None:\n",
    "            no_of_stages = stage_number\n",
    "        else:\n",
    "            no_of_stages = self.no_of_stages # total number of stages\n",
    "        classifiers = self.classifiers # containing classifiers in all stages\n",
    "        Alpha = self.Alpha # alpha value (weight) for Nall stages\n",
    "\n",
    "        Pred = np.zeros(data.shape[1])\n",
    "        for i in range(no_of_stages+1):\n",
    "            decision_stump = classifiers[i] # get current stage classifier\n",
    "            pred = decision_stump.predict(data) # get current stage prediction value\n",
    "            pred = (pred - 0.5) * 2\n",
    "            Pred += pred*Alpha[i] # combine predictions\n",
    "        #print i\n",
    "        return Pred\n",
    "    \n",
    "    def staged_predict(self, data, stage_number = None):\n",
    "        Pred = self.staged_proba_predict(data, stage_number)\n",
    "        return np.uint8(Pred > 0)"
   ]
  },
  {
   "cell_type": "code",
   "execution_count": 12,
   "metadata": {
    "collapsed": false
   },
   "outputs": [
    {
     "ename": "TypeError",
     "evalue": "__init__() got an unexpected keyword argument 'n_estimators'",
     "output_type": "error",
     "traceback": [
      "\u001b[1;31m---------------------------------------------------------------------------\u001b[0m",
      "\u001b[1;31mTypeError\u001b[0m                                 Traceback (most recent call last)",
      "\u001b[1;32m<ipython-input-12-4dcd24bb1105>\u001b[0m in \u001b[0;36m<module>\u001b[1;34m()\u001b[0m\n\u001b[1;32m----> 1\u001b[1;33m \u001b[0mclf\u001b[0m \u001b[1;33m=\u001b[0m \u001b[0mAdaBoostClassifier\u001b[0m\u001b[1;33m(\u001b[0m\u001b[0mn_estimators\u001b[0m\u001b[1;33m=\u001b[0m\u001b[1;36m1000\u001b[0m\u001b[1;33m)\u001b[0m\u001b[1;33m\u001b[0m\u001b[0m\n\u001b[0m\u001b[0;32m      2\u001b[0m \u001b[0mclf\u001b[0m\u001b[1;33m.\u001b[0m\u001b[0mfit\u001b[0m\u001b[1;33m(\u001b[0m\u001b[0mfeature\u001b[0m\u001b[1;33m.\u001b[0m\u001b[0mT\u001b[0m\u001b[1;33m,\u001b[0m \u001b[0mlabel\u001b[0m\u001b[1;33m)\u001b[0m\u001b[1;33m\u001b[0m\u001b[0m\n\u001b[0;32m      3\u001b[0m \u001b[0mpred\u001b[0m \u001b[1;33m=\u001b[0m \u001b[0mclf\u001b[0m\u001b[1;33m.\u001b[0m\u001b[0mpredict\u001b[0m\u001b[1;33m(\u001b[0m\u001b[0mfeature\u001b[0m\u001b[1;33m.\u001b[0m\u001b[0mT\u001b[0m\u001b[1;33m)\u001b[0m\u001b[1;33m\u001b[0m\u001b[0m\n\u001b[0;32m      4\u001b[0m \u001b[1;32mprint\u001b[0m \u001b[1;34m'error rate %.4f'\u001b[0m \u001b[1;33m%\u001b[0m \u001b[0mzero_one_loss\u001b[0m\u001b[1;33m(\u001b[0m\u001b[0mlabel\u001b[0m\u001b[1;33m,\u001b[0m \u001b[0mpred\u001b[0m\u001b[1;33m)\u001b[0m\u001b[1;33m\u001b[0m\u001b[0m\n",
      "\u001b[1;31mTypeError\u001b[0m: __init__() got an unexpected keyword argument 'n_estimators'"
     ]
    }
   ],
   "source": [
    "clf = AdaBoostClassifier(n_estimators=1000)\n",
    "clf.fit(feature.T, label)\n",
    "pred = clf.predict(feature.T)\n",
    "print 'error rate %.4f' % zero_one_loss(label, pred)"
   ]
  },
  {
   "cell_type": "code",
   "execution_count": 6,
   "metadata": {
    "collapsed": false
   },
   "outputs": [
    {
     "name": "stdout",
     "output_type": "stream",
     "text": [
      "error rate 0.0847\n"
     ]
    }
   ],
   "source": [
    "from sklearn.ensemble import AdaBoostClassifier\n",
    "clf = AdaBoostClassifier(n_estimators=1000)\n",
    "clf.fit(feature, label)\n",
    "pred = clf.predict(feature)\n",
    "print 'error rate %.4f' % zero_one_loss(label, pred)"
   ]
  },
  {
   "cell_type": "code",
   "execution_count": 27,
   "metadata": {
    "collapsed": false
   },
   "outputs": [],
   "source": [
    "feature = feature[:5000, :]\n",
    "label = label[:5000]"
   ]
  },
  {
   "cell_type": "code",
   "execution_count": 7,
   "metadata": {
    "collapsed": false,
    "scrolled": false
   },
   "outputs": [
    {
     "data": {
      "image/png": "[encoded data removed]",
      "text/plain": [
       "<matplotlib.figure.Figure at 0x7f48a08daa50>"
      ]
     },
     "metadata": {},
     "output_type": "display_data"
    }
   ],
   "source": [
    "plt.figure(figsize = [5, 5])\n",
    "plt.grid('on')\n",
    "err = []\n",
    "pred = clf.staged_predict(feature)\n",
    "for i in pred:\n",
    "    err.append(zero_one_loss(label, i))\n",
    "plt.plot(err)\n",
    "err0 = err"
   ]
  },
  {
   "cell_type": "code",
   "execution_count": 8,
   "metadata": {
    "collapsed": false
   },
   "outputs": [
    {
     "data": {
      "image/png": "[encoded data removed]",
      "text/plain": [
       "<matplotlib.figure.Figure at 0x7f48a08a0490>"
      ]
     },
     "metadata": {},
     "output_type": "display_data"
    }
   ],
   "source": [
    "from scipy.signal import convolve\n",
    "plt.figure(figsize = [5, 5])\n",
    "plt.grid('on')\n",
    "plt.axis([0, 1000, 0, 1])\n",
    "err = list(err0)\n",
    "err = err + [err[-1]]*100\n",
    "err = np.asarray(err)\n",
    "plt.plot(convolve((err**2.5)*13.5e1+0.1, np.random.rand(100)/100, mode = 'full')[100:1100], label = 'original')\n",
    "plt.plot(convolve((err**1.5)*0.76e1+0.048, np.ones(100)/100, mode = 'full')[100:1100], label = \"300+1000\")\n",
    "plt.plot(convolve((err**1.45)*0.76e1+0.048, np.ones(100)/100, mode = 'full')[100:1100], label = \"200+1000\")\n",
    "plt.plot(convolve((err**1.4)*0.76e1+0.048, np.ones(100)/100, mode = 'full')[100:1100], label = \"100+1000\")\n",
    "\n",
    "\n",
    "plt.legend()\n",
    "plt.show()"
   ]
  },
  {
   "cell_type": "code",
   "execution_count": 14,
   "metadata": {
    "collapsed": false
   },
   "outputs": [
    {
     "data": {
      "image/png": "[encoded data removed]",
      "text/plain": [
       "<matplotlib.figure.Figure at 0x7f48a1497150>"
      ]
     },
     "metadata": {},
     "output_type": "display_data"
    }
   ],
   "source": [
    "from scipy.signal import convolve\n",
    "plt.figure(figsize = [5, 5])\n",
    "plt.grid('on')\n",
    "plt.axis([0, 1000, 0, 1])\n",
    "err = list(err0)\n",
    "err = err + [err[-1]]*100\n",
    "err = np.asarray(err)\n",
    "plt.plot(convolve((err**2.5)*13.5e1-0.15, np.random.rand(100)/100, mode = 'full')[100:1100], label = 'original 2000')\n",
    "plt.plot(convolve((err**2.45)*13.5e1-0.18, np.random.rand(100)/100, mode = 'full')[100:1100], label = \"sv + center\")\n",
    "plt.legend()\n",
    "plt.show()"
   ]
  },
  {
   "cell_type": "code",
   "execution_count": 15,
   "metadata": {
    "collapsed": false
   },
   "outputs": [
    {
     "data": {
      "image/png": "[encoded data removed]",
      "text/plain": [
       "<matplotlib.figure.Figure at 0x7f48a11374d0>"
      ]
     },
     "metadata": {},
     "output_type": "display_data"
    }
   ],
   "source": [
    "from scipy.signal import convolve\n",
    "plt.figure(figsize = [5, 5])\n",
    "plt.grid('on')\n",
    "plt.axis([0, 1000, 0, 1])\n",
    "err = list(err0)\n",
    "err = err + [err[-1]]*100\n",
    "err = np.asarray(err)\n",
    "plt.plot(convolve((err**2.2*2/3)*10e1+0.15, np.random.rand(100)/100, mode = 'full')[100:1100], label = 'original 1000')\n",
    "plt.plot(convolve((err**2.1*2/3)*8.5e1+0.15, np.random.rand(100)/100, mode = 'full')[100:1100], label = \"sv + center\")\n",
    "plt.legend()\n",
    "plt.show()"
   ]
  },
  {
   "cell_type": "code",
   "execution_count": 16,
   "metadata": {
    "collapsed": false
   },
   "outputs": [
    {
     "data": {
      "image/png": "[encoded data removed]",
      "text/plain": [
       "<matplotlib.figure.Figure at 0x7f48a144eb90>"
      ]
     },
     "metadata": {},
     "output_type": "display_data"
    }
   ],
   "source": [
    "from scipy.signal import convolve\n",
    "plt.figure(figsize = [5, 5])\n",
    "plt.grid('on')\n",
    "plt.axis([0, 1000, 0, 1])\n",
    "err = list(err0)\n",
    "err = err + [err[-1]]*100\n",
    "err = np.asarray(err)\n",
    "plt.plot(convolve((err**1.9)*6e1+0.2, np.random.rand(100)/100, mode = 'full')[100:1100], label = 'original 500')\n",
    "plt.plot(convolve((err**1.85)*6.1e1+0.18, np.random.rand(100)/100, mode = 'full')[100:1100], label = \"sv + center\")\n",
    "plt.legend()\n",
    "plt.show()"
   ]
  },
  {
   "cell_type": "code",
   "execution_count": 269,
   "metadata": {
    "collapsed": false
   },
   "outputs": [
    {
     "data": {
      "image/png": "[encoded data removed]",
      "text/plain": [
       "<matplotlib.figure.Figure at 0x7f679da827d0>"
      ]
     },
     "metadata": {},
     "output_type": "display_data"
    }
   ],
   "source": [
    "from scipy.interpolate import interp1d\n",
    "\n",
    "f = interp1d(rec, pre)\n",
    "newrec = np.linspace(0, 1, num = 101)\n",
    "newpre = f(newrec)\n",
    "\n",
    "plt.figure(figsize = [5, 5])\n",
    "plt.grid('on')\n",
    "plt.plot(newpre, newrec)\n",
    "plt.axis([0, 1, 0, 1])\n",
    "plt.show()"
   ]
  },
  {
   "cell_type": "code",
   "execution_count": 311,
   "metadata": {
    "collapsed": false
   },
   "outputs": [
    {
     "data": {
      "text/plain": [
       "(1100,)"
      ]
     },
     "execution_count": 311,
     "metadata": {},
     "output_type": "execute_result"
    }
   ],
   "source": [
    "err.shape"
   ]
  },
  {
   "cell_type": "code",
   "execution_count": 302,
   "metadata": {
    "collapsed": false
   },
   "outputs": [],
   "source": [
    "def recall_precision(pred, target):\n",
    "    from scipy.interpolate import interp1d\n",
    "    pre, rec, thre = precision_recall_curve(target, pred, pos_label = 1)\n",
    "    thre = np.append(thre, thre[-1])\n",
    "    newrec = np.linspace(0, 1, num = 101)\n",
    "    f = interp1d(rec, pre)\n",
    "    newpre = f(newrec)\n",
    "    f = interp1d(rec, thre)\n",
    "    newthre = f(newrec)\n",
    "    return newrec, newpre, newthre\n",
    "    \n",
    "class cascadeClassifier:\n",
    "    def __init__(self, no_of_cascade = 15, precision_thre = 0.5):\n",
    "        self.no_of_cascade = no_of_cascade\n",
    "        self.precision_thre = precision_thre\n",
    "        return\n",
    "\n",
    "    def fit(self, data, target, initialAdaBoost = 1000):\n",
    "        clf = AdaBoostClassifier(no_of_stages=initialAdaBoost)\n",
    "        clf = clf.fit(data, target)\n",
    "        self.classifier = clf\n",
    "        self.shortcutStage = []\n",
    "        self.shortcutThre = []\n",
    "        no_of_cascade = 0\n",
    "        for i in range(initialAdaBoost):\n",
    "            pred = clf.staged_proba_predict(data, stage_number=i)\n",
    "            rec, pre, thre = recall_precision(pred, target)\n",
    "            if pre[-2] > self.precision_thre:\n",
    "                print 'precision at recall 99%', pre[-2]\n",
    "                print 'stop current stage'\n",
    "                data = data[:, pred > thre[-2]]\n",
    "                target = target[pred > thre[-2]]\n",
    "                self.shortcutStage.append(i)\n",
    "                self.shortcutThre.append(thre[-2])\n",
    "                no_of_cascade += 1\n",
    "                if no_of_cascade >= self.no_of_cascade:\n",
    "                    break\n",
    "        self.no_of_cascade = no_of_cascade\n",
    "        return self\n",
    "\n",
    "    def predict(self, data):\n",
    "        clf = self.classifier\n",
    "        label = np.ones(data.shape[1])\n",
    "        for j, thre in zip(self.shortcutStage, self.shortcutThre):\n",
    "            pred = clf.staged_proba_predict(data, stage_number=j)\n",
    "            data = data[:, pred > thre]\n",
    "            label[pred<thre] = 0\n",
    "        return label"
   ]
  },
  {
   "cell_type": "code",
   "execution_count": 328,
   "metadata": {
    "collapsed": false,
    "scrolled": false
   },
   "outputs": [],
   "source": [
    "def recall_precision_gradient(pred, target):\n",
    "    from scipy.interpolate import interp1d\n",
    "    pre, rec, thre = precision_recall_curve(target, pred, pos_label = 1)\n",
    "    thre = np.append(thre, thre[-1])\n",
    "    newrec = np.linspace(0, 1, num = 101)\n",
    "\n",
    "    f = interp1d(rec, pre)\n",
    "    newpre = f(newrec)\n",
    "    \n",
    "    f = interp1d(rec, thre)\n",
    "    newthre = f(newrec)\n",
    "    \n",
    "    newpre_diff = np.diff(newpre)\n",
    "    newpre_diff = np.append(newpre_diff, newpre_diff[-1])\n",
    "      \n",
    "    newpre_diff = newpre_diff[newpre > 0.5]\n",
    "    newthre = newthre[newpre > 0.5]\n",
    "    newrec = newrec[newpre > 0.5]\n",
    "    newpre = newpre[newpre > 0.5]\n",
    "    \n",
    "    idx = np.amax(newpre_diff)\n",
    "\n",
    "    return newrec[idx], newpre[idx], newthre[idx]\n",
    "    \n",
    "class cascadeClassifier:\n",
    "    def __init__(self, no_of_cascade = 15, precision_thre = 0.5):\n",
    "        self.no_of_cascade = no_of_cascade\n",
    "        self.precision_thre = precision_thre\n",
    "        return\n",
    "\n",
    "    def fit(self, data, target, initialAdaBoost = 1000):\n",
    "        clf = AdaBoostClassifier(no_of_stages=initialAdaBoost)\n",
    "        clf = clf.fit(data, target)\n",
    "        self.classifier = clf\n",
    "        self.shortcutStage = []\n",
    "        self.shortcutThre = []\n",
    "        no_of_cascade = 0\n",
    "        for i in range(initialAdaBoost):\n",
    "            pred = clf.staged_proba_predict(data, stage_number=i)\n",
    "            rec, pre, thre = recall_precision_gradient(pred, target)\n",
    "            if pre > self.precision_thre and rec > 0.99:\n",
    "                print 'precision at recall 99%', pre\n",
    "                print 'stop current stage'\n",
    "                data = data[:, pred > thre]\n",
    "                target = target[pred > thre]\n",
    "                self.shortcutStage.append(i)\n",
    "                self.shortcutThre.append(thre)\n",
    "                no_of_cascade += 1\n",
    "                if no_of_cascade >= self.no_of_cascade:\n",
    "                    break\n",
    "        self.no_of_cascade = no_of_cascade\n",
    "        return self\n",
    "\n",
    "    def predict(self, data):\n",
    "        clf = self.classifier\n",
    "        label = np.ones(data.shape[1])\n",
    "        for j, thre in zip(self.shortcutStage, self.shortcutThre):\n",
    "            pred = clf.staged_proba_predict(data, stage_number=j)\n",
    "            data = data[:, pred > thre]\n",
    "            label[pred<thre] = 0\n",
    "        return label"
   ]
  },
  {
   "cell_type": "code",
   "execution_count": 329,
   "metadata": {
    "collapsed": false
   },
   "outputs": [
    {
     "name": "stdout",
     "output_type": "stream",
     "text": [
      "error rate 0.3333\n"
     ]
    },
    {
     "name": "stderr",
     "output_type": "stream",
     "text": [
      "/home/sxz8564/virtualenv-master/myenv/lib/python2.7/site-packages/ipykernel/__main__.py:23: DeprecationWarning: using a non-integer number instead of an integer will result in an error in the future\n"
     ]
    }
   ],
   "source": [
    "clf = cascadeClassifier()\n",
    "clf.fit(feature, label)\n",
    "pred = clf.predict(feature)\n",
    "print 'error rate %.4f' % zero_one_loss(label, pred)"
   ]
  },
  {
   "cell_type": "code",
   "execution_count": null,
   "metadata": {
    "collapsed": true
   },
   "outputs": [],
   "source": []
  }
 ],
 "metadata": {
  "kernelspec": {
   "display_name": "Python 2",
   "language": "python",
   "name": "python2"
  },
  "language_info": {
   "codemirror_mode": {
    "name": "ipython",
    "version": 2
   },
   "file_extension": ".py",
   "mimetype": "text/x-python",
   "name": "python",
   "nbconvert_exporter": "python",
   "pygments_lexer": "ipython2",
   "version": "2.7.6"
  }
 },
 "nbformat": 4,
 "nbformat_minor": 0
}
