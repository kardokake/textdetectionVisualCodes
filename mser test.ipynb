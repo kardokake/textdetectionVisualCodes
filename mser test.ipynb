{
 "cells": [
  {
   "cell_type": "code",
   "execution_count": 2,
   "metadata": {
    "collapsed": false
   },
   "outputs": [],
   "source": [
    "%matplotlib inline\n",
    "%load_ext autoreload\n",
    "%autoreload 2\n",
    "\n",
    "import cv2\n",
    "import cv\n",
    "import os\n",
    "import numpy\n",
    "import matplotlib.pyplot as plt\n",
    "import sys\n",
    "sys.path.insert(0, '../python')\n",
    "\n",
    "\n",
    "from fileOp import pickle_load\n",
    "from scipy.ndimage.morphology import binary_fill_holes\n",
    "from imgOp import image_load, imShow\n",
    "from skimage.filters import threshold_otsu, rank\n",
    "from skimage.morphology import disk"
   ]
  },
  {
   "cell_type": "code",
   "execution_count": 3,
   "metadata": {
    "collapsed": false
   },
   "outputs": [],
   "source": [
    "def image2mser(greyim):\n",
    "    mserimg = numpy.zeros(greyim.shape)\n",
    "    mser = cv2.MSER()\n",
    "    mser_areas = mser.detect(greyim, None)\n",
    "    for i, m in enumerate(mser_areas):\n",
    "        mserimg[m[:, 1], m[:, 0]] = i\n",
    "    return mserimg\n",
    "\n",
    "def localOtsu(greyim):\n",
    "    radius = 50\n",
    "    selem = disk(radius)\n",
    "    local_otsu = rank.otsu(greyim, selem)\n",
    "    return greyim > local_otsu"
   ]
  },
  {
   "cell_type": "code",
   "execution_count": 4,
   "metadata": {
    "collapsed": true
   },
   "outputs": [],
   "source": [
    "dirname = '../data/ex3/roi'"
   ]
  },
  {
   "cell_type": "code",
   "execution_count": 5,
   "metadata": {
    "collapsed": true
   },
   "outputs": [],
   "source": [
    "filelist = os.listdir(dirname)"
   ]
  },
  {
   "cell_type": "code",
   "execution_count": 7,
   "metadata": {
    "collapsed": false
   },
   "outputs": [
    {
     "name": "stdout",
     "output_type": "stream",
     "text": [
      "img_227\n",
      "img_68\n",
      "img_127\n",
      "img_201\n",
      "img_72\n",
      "img_29\n",
      "img_32\n",
      "img_177\n",
      "img_206\n",
      "img_64\n",
      "img_164\n",
      "img_65\n",
      "img_88\n",
      "img_46\n",
      "img_152\n",
      "img_159\n",
      "img_230\n",
      "img_121\n",
      "img_144\n",
      "img_19\n",
      "img_148\n",
      "img_135\n",
      "img_218\n",
      "img_62\n",
      "img_89\n",
      "img_21\n"
     ]
    },
    {
     "data": {
      "image/png": "[encoded data removed]",
      "text/plain": [
       "<matplotlib.figure.Figure at 0x48ccbd0>"
      ]
     },
     "metadata": {},
     "output_type": "display_data"
    },
    {
     "data": {
      "image/png": "[encoded data removed]",
      "text/plain": [
       "<matplotlib.figure.Figure at 0x6095dd0>"
      ]
     },
     "metadata": {},
     "output_type": "display_data"
    },
    {
     "name": "stdout",
     "output_type": "stream",
     "text": [
      "img_190\n",
      "img_33\n",
      "img_213\n",
      "img_53\n",
      "img_129\n",
      "img_174\n",
      "img_178\n",
      "img_207\n",
      "img_59\n",
      "img_73\n",
      "img_70\n",
      "img_78\n",
      "img_5\n",
      "img_57\n",
      "img_9\n",
      "img_209\n",
      "img_91\n",
      "img_203\n",
      "img_125\n",
      "img_137\n",
      "img_55\n",
      "img_96\n",
      "img_232\n",
      "img_197\n",
      "img_136\n",
      "img_163\n",
      "img_119\n",
      "img_212\n",
      "img_43\n",
      "img_208\n",
      "img_188\n",
      "img_102\n",
      "img_90\n",
      "img_194\n",
      "img_111\n",
      "img_95\n",
      "img_13\n",
      "img_107\n",
      "img_10\n",
      "img_116\n",
      "img_173\n",
      "img_49\n",
      "img_30\n",
      "img_211\n",
      "img_171\n",
      "img_98\n",
      "img_183\n",
      "img_172\n",
      "img_231\n",
      "img_131\n",
      "img_84\n",
      "img_161\n",
      "img_47\n",
      "img_86\n",
      "img_45\n",
      "img_94\n",
      "img_80\n",
      "img_233\n",
      "img_99\n",
      "img_20\n",
      "img_186\n",
      "img_7\n",
      "img_93\n",
      "img_83\n",
      "img_176\n",
      "img_133\n",
      "img_97\n",
      "img_71\n",
      "img_221\n",
      "img_155\n",
      "img_26\n",
      "img_219\n",
      "img_82\n",
      "img_141\n",
      "img_16\n",
      "img_165\n",
      "img_63\n",
      "img_85\n",
      "img_79\n",
      "img_66\n",
      "img_179\n",
      "img_117\n",
      "img_187\n",
      "img_225\n",
      "img_123\n",
      "img_184\n",
      "img_158\n",
      "img_205\n",
      "img_185\n",
      "img_160\n",
      "img_39\n",
      "img_169\n",
      "img_191\n",
      "img_149\n",
      "img_44\n",
      "img_170\n",
      "img_193\n",
      "img_134\n",
      "img_113\n",
      "img_200\n",
      "img_34\n",
      "img_222\n",
      "img_150\n",
      "img_166\n",
      "img_1\n",
      "img_40\n",
      "img_114\n",
      "img_146\n",
      "img_101\n",
      "img_24\n",
      "img_112\n",
      "img_8\n",
      "img_181\n",
      "img_12\n",
      "img_76\n",
      "img_189\n",
      "img_210\n",
      "img_162\n",
      "img_204\n",
      "img_74\n",
      "img_202\n",
      "img_56\n",
      "img_167\n",
      "img_6\n",
      "img_143\n",
      "img_223\n",
      "img_60\n",
      "img_168\n",
      "img_69\n",
      "img_153\n",
      "img_126\n",
      "img_100\n",
      "img_216\n",
      "img_17\n",
      "img_2\n",
      "img_226\n",
      "img_151\n",
      "img_124\n",
      "img_48\n",
      "img_115\n",
      "img_14\n",
      "img_42\n",
      "img_61\n",
      "img_51\n",
      "img_27\n",
      "img_122\n",
      "img_142\n",
      "img_50\n",
      "img_77\n",
      "img_103\n",
      "img_128\n",
      "img_28\n",
      "img_52\n",
      "img_25\n",
      "img_3\n",
      "img_38\n",
      "img_139\n",
      "img_195\n",
      "img_224\n",
      "img_118\n",
      "img_228\n",
      "img_36\n",
      "img_199\n",
      "img_11\n",
      "img_109\n",
      "img_145\n",
      "img_138\n",
      "img_31\n",
      "img_130\n",
      "img_22\n",
      "img_106\n",
      "img_58\n",
      "img_182\n",
      "img_180\n",
      "img_75\n",
      "img_196\n",
      "img_108\n",
      "img_105\n",
      "img_192\n",
      "img_23\n",
      "img_198\n",
      "img_154\n",
      "img_220\n",
      "img_157\n",
      "img_132\n",
      "img_120\n",
      "img_87\n",
      "img_156\n",
      "img_140\n",
      "img_104\n",
      "img_35\n",
      "img_41\n",
      "img_217\n",
      "img_37\n",
      "img_18\n",
      "img_15\n",
      "img_92\n",
      "img_110\n",
      "img_81\n",
      "img_67\n",
      "img_175\n",
      "img_215\n",
      "img_54\n",
      "img_214\n",
      "img_4\n",
      "img_147\n",
      "img_229\n"
     ]
    }
   ],
   "source": [
    "for filename in filelist:\n",
    "    print filename\n",
    "    if not filename == 'img_21':\n",
    "        continue\n",
    "    roi = pickle_load(filename, dirname)\n",
    "    for img in roi:\n",
    "        img = numpy.uint8(img)\n",
    "        mserimg = image2mser(img)\n",
    "        binimg = localOtsu(img)\n",
    "        #imShow(img.transpose())\n",
    "        imShow(mserimg.transpose())\n",
    "        #plt.imsave('228test.png', mserimg.transpose() > 0)\n",
    "        #imShow(binimg.transpose())"
   ]
  },
  {
   "cell_type": "code",
   "execution_count": 8,
   "metadata": {
    "collapsed": false
   },
   "outputs": [],
   "source": [
    "numpy.save('mser.npy', mserimg)"
   ]
  },
  {
   "cell_type": "code",
   "execution_count": 63,
   "metadata": {
    "collapsed": false
   },
   "outputs": [
    {
     "ename": "NameError",
     "evalue": "name 'mesh' is not defined",
     "output_type": "error",
     "traceback": [
      "\u001b[1;31m---------------------------------------------------------------------------\u001b[0m",
      "\u001b[1;31mNameError\u001b[0m                                 Traceback (most recent call last)",
      "\u001b[1;32m<ipython-input-63-debd66fd4110>\u001b[0m in \u001b[0;36m<module>\u001b[1;34m()\u001b[0m\n\u001b[1;32m----> 1\u001b[1;33m \u001b[0mmesh\u001b[0m\u001b[1;33m(\u001b[0m\u001b[0mmserimg\u001b[0m\u001b[1;33m)\u001b[0m\u001b[1;33m\u001b[0m\u001b[0m\n\u001b[0m",
      "\u001b[1;31mNameError\u001b[0m: name 'mesh' is not defined"
     ]
    }
   ],
   "source": [
    "mesh(mserimg)"
   ]
  },
  {
   "cell_type": "code",
   "execution_count": null,
   "metadata": {
    "collapsed": true
   },
   "outputs": [],
   "source": []
  }
 ],
 "metadata": {
  "kernelspec": {
   "display_name": "Python 2",
   "language": "python",
   "name": "python2"
  },
  "language_info": {
   "codemirror_mode": {
    "name": "ipython",
    "version": 2
   },
   "file_extension": ".py",
   "mimetype": "text/x-python",
   "name": "python",
   "nbconvert_exporter": "python",
   "pygments_lexer": "ipython2",
   "version": "2.7.3"
  }
 },
 "nbformat": 4,
 "nbformat_minor": 0
}
